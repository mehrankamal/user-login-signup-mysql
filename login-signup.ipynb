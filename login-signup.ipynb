{
 "cells": [
  {
   "cell_type": "code",
   "execution_count": 1,
   "metadata": {},
   "outputs": [],
   "source": [
    "import mysql.connector as connector"
   ]
  },
  {
   "cell_type": "markdown",
   "metadata": {},
   "source": [
    "## Database Schema\n",
    "\n",
    "![Database Schema](schema.png)"
   ]
  },
  {
   "cell_type": "code",
   "execution_count": 7,
   "metadata": {},
   "outputs": [],
   "source": [
    "mydb = connector.connect(\n",
    "    host='localhost',\n",
    "    user='root',\n",
    "    passwd='pass',\n",
    "    database='python_user'\n",
    ")\n",
    "\n",
    "mycursor = mydb.cursor()"
   ]
  },
  {
   "cell_type": "markdown",
   "metadata": {},
   "source": [
    "## User Sign up"
   ]
  },
  {
   "cell_type": "code",
   "execution_count": 13,
   "metadata": {},
   "outputs": [
    {
     "name": "stdout",
     "output_type": "stream",
     "text": [
      "Enter username: mehran\n",
      "Enter name: Mehran\n",
      "Enter password: 12345678\n",
      "Enter password again: 12345678\n",
      "User Added Sucessfully!\n"
     ]
    }
   ],
   "source": [
    "uname = input(\"Enter username: \")\n",
    "name = input(\"Enter name: \")\n",
    "passwd = input(\"Enter password: \")\n",
    "passcheck = input(\"Enter password again: \")\n",
    "\n",
    "if passwd == passcheck:\n",
    "    try:\n",
    "        sql = (\"INSERT INTO users (username, name, pass) VALUES (%s, %s, %s)\")\n",
    "        val = (uname, name, passwd)\n",
    "        mycursor.execute(sql, val)\n",
    "        mydb.commit()\n",
    "        print(\"User Added Sucessfully!\")\n",
    "    except connector.IntegrityError as err:\n",
    "        print (\"User Already Exists!\\nTry another username!\")\n",
    "else:\n",
    "    print(\"Error password\")"
   ]
  },
  {
   "cell_type": "markdown",
   "metadata": {},
   "source": [
    "## User Login"
   ]
  },
  {
   "cell_type": "code",
   "execution_count": 25,
   "metadata": {},
   "outputs": [
    {
     "name": "stdout",
     "output_type": "stream",
     "text": [
      "Enter username: mehran\n",
      "Enter password: 12345678\n",
      "\n",
      "Login Sucessful!\n",
      "User: mehran\n",
      "Name: Mehran\n"
     ]
    }
   ],
   "source": [
    "username = input(\"Enter username: \")\n",
    "passwd = input(\"Enter password: \")\n",
    "\n",
    "sql = 'SELECT * FROM users WHERE username = %s AND pass = %s'\n",
    "userdata = (username, passwd)\n",
    "\n",
    "mycursor.execute(sql, userdata)\n",
    "\n",
    "results = mycursor.fetchall()\n",
    "\n",
    "if results == None:\n",
    "    print(\"Wrong username or password\")\n",
    "else:\n",
    "    print(\"\")\n",
    "    print(\"Login Sucessful!\")\n",
    "    print(f\"User: {uname}\\nName: {results[0][1]}\")"
   ]
  }
 ],
 "metadata": {
  "kernelspec": {
   "display_name": "Python 3",
   "language": "python",
   "name": "python3"
  },
  "language_info": {
   "codemirror_mode": {
    "name": "ipython",
    "version": 3
   },
   "file_extension": ".py",
   "mimetype": "text/x-python",
   "name": "python",
   "nbconvert_exporter": "python",
   "pygments_lexer": "ipython3",
   "version": "3.6.8"
  }
 },
 "nbformat": 4,
 "nbformat_minor": 2
}
